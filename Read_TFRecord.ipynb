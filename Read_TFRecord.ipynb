{
 "cells": [
  {
   "cell_type": "code",
   "execution_count": 1,
   "metadata": {},
   "outputs": [],
   "source": [
    "import os\n",
    "import tensorflow as tf"
   ]
  },
  {
   "cell_type": "code",
   "execution_count": 20,
   "metadata": {},
   "outputs": [],
   "source": [
    "def read_and_decode(filename_queue):\n",
    "    tf_record_reader=tf.TFRecordReader()\n",
    "    _, tf_record_serialized = tf_record_reader.read(tf_record_filename_queue)\n",
    "\n",
    "    tf_record_features = tf.parse_single_example(\n",
    "        tf_record_serialized,\n",
    "        features={\n",
    "            'label': tf.FixedLenFeature([], tf.string),\n",
    "            'width': tf.FixedLenFeature([], tf.int64),\n",
    "            'height': tf.FixedLenFeature([], tf.int64),\n",
    "            'image': tf.FixedLenFeature([], tf.string),\n",
    "        })\n",
    "    tf_record_image = tf.decode_raw(tf_record_features['image'],tf.uint8)\n",
    "\n",
    "    tf_record_image = tf.reshape(tf_record_image, [64,64,1])\n",
    "\n",
    "    tf_record_label = tf.cast(tf_record_features['label'],tf.string)\n",
    "\n",
    "    images, labels = tf.train.shuffle_batch([tf_record_image, tf_record_label],\n",
    "                                         batch_size=3,\n",
    "                                         capacity=50,\n",
    "                                         num_threads=3,\n",
    "                                         min_after_dequeue=50 )\n",
    "    return images, labels"
   ]
  },
  {
   "cell_type": "code",
   "execution_count": 5,
   "metadata": {},
   "outputs": [],
   "source": [
    "tf_record_filename_queue = tf.train.string_input_producer(tf.train.match_filenames_once(\"./s_HanDB_Test.tfrecord\"))\n",
    "#f=open(\"./test_record.tfrecord\",'rb')"
   ]
  },
  {
   "cell_type": "code",
   "execution_count": 6,
   "metadata": {},
   "outputs": [],
   "source": [
    "tf_record_reader=tf.TFRecordReader()\n",
    "_, tf_record_serialized = tf_record_reader.read(tf_record_filename_queue)"
   ]
  },
  {
   "cell_type": "code",
   "execution_count": 7,
   "metadata": {},
   "outputs": [],
   "source": [
    "tf_record_features = tf.parse_single_example(\n",
    "    tf_record_serialized,\n",
    "    features={\n",
    "        'label': tf.FixedLenFeature([], tf.string),\n",
    "        'width': tf.FixedLenFeature([], tf.int64),\n",
    "        'height': tf.FixedLenFeature([], tf.int64),\n",
    "        'image': tf.FixedLenFeature([], tf.string),\n",
    "    })"
   ]
  },
  {
   "cell_type": "code",
   "execution_count": 8,
   "metadata": {
    "scrolled": true
   },
   "outputs": [
    {
     "name": "stdout",
     "output_type": "stream",
     "text": [
      "[b'\\xc5\\xa2' b'\\xc1\\xd9' b'\\xbf\\xcb' b'\\xbd\\xcd' b'\\xc5\\xc3' b'\\xc2\\xfb'\n",
      " b'\\xb1\\xb8' b'\\xb1\\xd8' b'\\xb4\\xdd' b'\\xb6\\xf7']\n",
      "[b'\\xb5\\xbf' b'\\xb5\\xd6' b'\\xb3\\xf0' b'\\xb6\\xe0' b'\\xb7\\xf9' b'\\xb0\\xc9'\n",
      " b'\\xbe\\xf0' b'\\xbe\\xd5' b'\\xc7\\xfb' b'\\xb8\\xa1']\n",
      "[b'\\xbb\\xf3' b'\\xbe\\xd0' b'\\xc8\\xad' b'\\xbf\\xa5' b'\\xb9\\xbd' b'\\xbf\\xf9'\n",
      " b'\\xb8\\xb8' b'\\xbe\\xf8' b'\\xb3\\xca' b'\\xb9\\xc7']\n"
     ]
    }
   ],
   "source": [
    "tf_record_image = tf.decode_raw(tf_record_features['image'],tf.uint8)\n",
    "\n",
    "tf_record_image = tf.reshape(tf_record_image, [64,64,1])\n",
    "\n",
    "tf_record_label = tf.cast(tf_record_features['label'],tf.string)\n",
    "\n",
    "images, labels = tf.train.shuffle_batch([tf_record_image, tf_record_label],\n",
    "                                         batch_size=10,\n",
    "                                         capacity=30,\n",
    "                                         num_threads=5,\n",
    "                                         min_after_dequeue=10 )\n",
    "\n",
    "init=tf.local_variables_initializer()\n",
    "\n",
    "with tf.Session() as sess:\n",
    "    sess.run(init)\n",
    "    coord=tf.train.Coordinator()\n",
    "    threads = tf.train.start_queue_runners(coord=coord)\n",
    "    for i in range(3):\n",
    "        img, lab = sess.run([images,labels])\n",
    "        print(lab)\n",
    "    \n",
    "    coord.request_stop()\n",
    "    coord.join(threads)\n",
    "\n"
   ]
  },
  {
   "cell_type": "code",
   "execution_count": null,
   "metadata": {},
   "outputs": [],
   "source": []
  },
  {
   "cell_type": "code",
   "execution_count": null,
   "metadata": {},
   "outputs": [],
   "source": []
  }
 ],
 "metadata": {
  "kernelspec": {
   "display_name": "Python [default]",
   "language": "python",
   "name": "python3"
  },
  "language_info": {
   "codemirror_mode": {
    "name": "ipython",
    "version": 3
   },
   "file_extension": ".py",
   "mimetype": "text/x-python",
   "name": "python",
   "nbconvert_exporter": "python",
   "pygments_lexer": "ipython3",
   "version": "3.5.4"
  }
 },
 "nbformat": 4,
 "nbformat_minor": 2
}
