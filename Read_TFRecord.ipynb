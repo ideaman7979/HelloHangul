{
 "cells": [
  {
   "cell_type": "code",
   "execution_count": 2,
   "metadata": {},
   "outputs": [],
   "source": [
    "import os\n",
    "import tensorflow as tf"
   ]
  },
  {
   "cell_type": "code",
   "execution_count": 3,
   "metadata": {},
   "outputs": [],
   "source": [
    "tf_record_filename_queue = tf.train.string_input_producer(tf.train.match_filenames_once(\"./test_record.tfrecord\"))\n",
    "#f=open(\"./test_record.tfrecord\",'rb')\n",
    "tf_record_reader=tf.TFRecordReader()\n",
    "_, tf_record_serialized = tf_record_reader.read(tf_record_filename_queue)"
   ]
  },
  {
   "cell_type": "code",
   "execution_count": 4,
   "metadata": {},
   "outputs": [],
   "source": [
    "tf_record_features = tf.parse_single_example(\n",
    "    tf_record_serialized,\n",
    "    features={\n",
    "        'label': tf.FixedLenFeature([], tf.string),\n",
    "        'width': tf.FixedLenFeature([], tf.string),\n",
    "        'height': tf.FixedLenFeature([], tf.string),\n",
    "        'image': tf.FixedLenFeature([], tf.string),\n",
    "    })"
   ]
  },
  {
   "cell_type": "code",
   "execution_count": 5,
   "metadata": {},
   "outputs": [
    {
     "name": "stdout",
     "output_type": "stream",
     "text": [
      "Tensor(\"Reshape:0\", shape=(64, 64, 1), dtype=uint8)\n",
      "Tensor(\"ParseSingleExample/Squeeze_label:0\", shape=(), dtype=string)\n"
     ]
    }
   ],
   "source": [
    "tf_record_image = tf.decode_raw(tf_record_features['image'],tf.uint8)\n",
    "\n",
    "tf_record_image = tf.reshape(tf_record_image, [64,64,1])\n",
    "\n",
    "tf_record_label = tf.cast(tf_record_features['label'],tf.string)\n",
    "\n",
    "print(tf_record_image)\n",
    "print(tf_record_label)\n",
    "\n",
    "sess=tf.Session()\n",
    "#sess.run(tf_record_label)"
   ]
  },
  {
   "cell_type": "code",
   "execution_count": null,
   "metadata": {},
   "outputs": [],
   "source": []
  }
 ],
 "metadata": {
  "kernelspec": {
   "display_name": "Python [default]",
   "language": "python",
   "name": "python3"
  },
  "language_info": {
   "codemirror_mode": {
    "name": "ipython",
    "version": 3
   },
   "file_extension": ".py",
   "mimetype": "text/x-python",
   "name": "python",
   "nbconvert_exporter": "python",
   "pygments_lexer": "ipython3",
   "version": "3.5.4"
  }
 },
 "nbformat": 4,
 "nbformat_minor": 2
}
