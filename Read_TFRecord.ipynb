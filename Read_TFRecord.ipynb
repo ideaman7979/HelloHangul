{
 "cells": [
  {
   "cell_type": "code",
   "execution_count": 1,
   "metadata": {},
   "outputs": [],
   "source": [
    "import os\n",
    "import tensorflow as tf"
   ]
  },
  {
   "cell_type": "code",
   "execution_count": 5,
   "metadata": {},
   "outputs": [],
   "source": [
    "def read_and_decode(filename_queue, batch_size):\n",
    "    tf_record_reader=tf.TFRecordReader()\n",
    "    _, tf_record_serialized = tf_record_reader.read(tf_record_filename_queue)\n",
    "\n",
    "    tf_record_features = tf.parse_single_example(\n",
    "        tf_record_serialized,\n",
    "        features={\n",
    "            'label': tf.FixedLenFeature([], tf.int64),\n",
    "            'width': tf.FixedLenFeature([], tf.int64),\n",
    "            'height': tf.FixedLenFeature([], tf.int64),\n",
    "            'image': tf.FixedLenFeature([], tf.string),\n",
    "        })\n",
    "    \n",
    "    tf_record_image = tf.decode_raw(tf_record_features['image'],tf.uint8)\n",
    "    \n",
    "    tf_record_image = tf.cast(tf_record_image, tf.float32)\n",
    "\n",
    "    tf_record_image = tf.reshape(tf_record_image, [64,64])\n",
    "\n",
    "    tf_record_label = tf.cast(tf_record_features['label'],tf.int64)\n",
    "    \n",
    "\n",
    "\n",
    "    images, labels = tf.train.shuffle_batch([tf_record_image, tf_record_label],\n",
    "                                         batch_size = batch_size,\n",
    "                                         capacity= 20*batch_size,\n",
    "                                         min_after_dequeue= 5*batch_size )\n",
    "    return images, labels"
   ]
  },
  {
   "cell_type": "code",
   "execution_count": 3,
   "metadata": {},
   "outputs": [],
   "source": [
    "file_name = \"int_HanDB_Test.tfrecord\"\n",
    "tf_record_filename_queue = tf.train.string_input_producer(tf.train.match_filenames_once(\"./\"+file_name))\n",
    "#f=open(\"./test_record.tfrecord\",'rb')"
   ]
  },
  {
   "cell_type": "code",
   "execution_count": 4,
   "metadata": {},
   "outputs": [],
   "source": [
    "tf_record_reader=tf.TFRecordReader()\n",
    "_, tf_record_serialized = tf_record_reader.read(tf_record_filename_queue)"
   ]
  },
  {
   "cell_type": "code",
   "execution_count": 5,
   "metadata": {},
   "outputs": [],
   "source": [
    "tf_record_features = tf.parse_single_example(\n",
    "    tf_record_serialized,\n",
    "    features={\n",
    "        'label': tf.FixedLenFeature([], tf.string),\n",
    "        'width': tf.FixedLenFeature([], tf.int64),\n",
    "        'height': tf.FixedLenFeature([], tf.int64),\n",
    "        'image': tf.FixedLenFeature([], tf.string),\n",
    "    })"
   ]
  },
  {
   "cell_type": "code",
   "execution_count": 7,
   "metadata": {
    "scrolled": false
   },
   "outputs": [
    {
     "name": "stdout",
     "output_type": "stream",
     "text": [
      "75186\n",
      "[48879 49405 45500 46052 46064 47050 46820 48818 46067 51143]\n",
      "[47286 46068 48881 47564 46287 47797 48579 46030 51454 49135]\n",
      "[48087 48545 46519 45274 45816 46518 48103 48316 50385 49363]\n"
     ]
    }
   ],
   "source": [
    "#tf_record_image = tf.decode_raw(tf_record_features['image'],tf.uint8)\n",
    "\n",
    "#tf_record_image = tf.reshape(tf_record_image, [64,64,1])\n",
    "\n",
    "#tf_record_label = tf.cast(tf_record_features['label'],tf.string)\n",
    "\n",
    "images, labels = read_and_decode(tf_record_filename_queue,10)\n",
    "\n",
    "init=tf.group(tf.global_variables_initializer(),tf.local_variables_initializer())\n",
    "\n",
    "record_iterator = tf.python_io.tf_record_iterator(path=file_name)\n",
    "\n",
    "c=0\n",
    "for record in record_iterator:\n",
    "    c+=1\n",
    "print(c)\n",
    "\n",
    "with tf.Session() as sess:\n",
    "    sess.run(init)\n",
    "    coord=tf.train.Coordinator()\n",
    "    threads = tf.train.start_queue_runners(coord=coord)\n",
    "    for i in range(3):\n",
    "        img, lab = sess.run([images,labels])\n",
    "        print(lab)\n",
    "    coord.request_stop()\n",
    "    coord.join(threads)\n",
    "\n"
   ]
  },
  {
   "cell_type": "code",
   "execution_count": null,
   "metadata": {},
   "outputs": [],
   "source": []
  },
  {
   "cell_type": "code",
   "execution_count": null,
   "metadata": {},
   "outputs": [],
   "source": []
  }
 ],
 "metadata": {
  "kernelspec": {
   "display_name": "Python [default]",
   "language": "python",
   "name": "python3"
  },
  "language_info": {
   "codemirror_mode": {
    "name": "ipython",
    "version": 3
   },
   "file_extension": ".py",
   "mimetype": "text/x-python",
   "name": "python",
   "nbconvert_exporter": "python",
   "pygments_lexer": "ipython3",
   "version": "3.5.4"
  }
 },
 "nbformat": 4,
 "nbformat_minor": 2
}
