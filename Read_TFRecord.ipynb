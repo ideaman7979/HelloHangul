{
 "cells": [
  {
   "cell_type": "code",
   "execution_count": 2,
   "metadata": {},
   "outputs": [],
   "source": [
    "import os\n",
    "import tensorflow as tf"
   ]
  },
  {
   "cell_type": "code",
   "execution_count": 3,
   "metadata": {},
   "outputs": [],
   "source": [
    "tf_record_filename_queue = tf.train.string_input_producer(tf.train.match_filenames_once(\"./test_record.tfrecord\"))\n",
    "#f=open(\"./test_record.tfrecord\",'rb')\n",
    "tf_record_reader=tf.TFRecordReader()\n",
    "_, tf_record_serialized = tf_record_reader.read(tf_record_filename_queue)"
   ]
  },
  {
   "cell_type": "code",
   "execution_count": 15,
   "metadata": {},
   "outputs": [],
   "source": [
    "tf_record_features = tf.parse_single_example(\n",
    "    tf_record_serialized,\n",
    "    features={\n",
    "        'label': tf.FixedLenFeature([], tf.string),\n",
    "        'width': tf.FixedLenFeature([], tf.int64),\n",
    "        'height': tf.FixedLenFeature([], tf.int64),\n",
    "        'image': tf.FixedLenFeature([], tf.string),\n",
    "    })"
   ]
  },
  {
   "cell_type": "code",
   "execution_count": 45,
   "metadata": {
    "scrolled": true
   },
   "outputs": [
    {
     "name": "stdout",
     "output_type": "stream",
     "text": [
      "64\n"
     ]
    }
   ],
   "source": [
    "tf_record_image = tf.decode_raw(tf_record_features['image'],tf.uint8)\n",
    "\n",
    "tf_record_image = tf.reshape(tf_record_image, [64,64,1])\n",
    "\n",
    "tf_record_label = tf.cast(tf_record_features['label'],tf.string)\n",
    "\n",
    "init=tf.local_variables_initializer()\n",
    "\n",
    "with tf.Session() as sess:\n",
    "    sess.run(init)\n",
    "    coord=tf.train.Coordinator()\n",
    "    threads = tf.train.start_queue_runners(coord=coord)\n",
    "    img, lab = sess.run([tf_record_image,tf_record_label])\n",
    "    print(len(img[0]))\n",
    "    \n",
    "    coord.request_stop()\n",
    "    coord.join(threads)\n",
    "\n"
   ]
  },
  {
   "cell_type": "code",
   "execution_count": null,
   "metadata": {},
   "outputs": [],
   "source": []
  },
  {
   "cell_type": "code",
   "execution_count": null,
   "metadata": {},
   "outputs": [],
   "source": []
  }
 ],
 "metadata": {
  "kernelspec": {
   "display_name": "Python [default]",
   "language": "python",
   "name": "python3"
  }
 },
 "nbformat": 4,
 "nbformat_minor": 2
}
