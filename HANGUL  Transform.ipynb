{
 "cells": [
  {
   "cell_type": "code",
   "execution_count": 19,
   "metadata": {},
   "outputs": [
    {
     "name": "stdout",
     "output_type": "stream",
     "text": [
      "웬\n",
      "['웬']\n",
      "초성 ID : 11\n",
      "중성 ID : 15\n",
      "종성 ID : 4\n"
     ]
    }
   ],
   "source": [
    "code = b'\\xc0\\xa2'\n",
    "euc = code.decode('euc-kr')\n",
    "print(euc)\n",
    "\n",
    "\n",
    "CHOSUNG_LIST = ['ㄱ', 'ㄲ', 'ㄴ', 'ㄷ', 'ㄸ', 'ㄹ', 'ㅁ', 'ㅂ', 'ㅃ', 'ㅅ', 'ㅆ', 'ㅇ', 'ㅈ', 'ㅉ', 'ㅊ', 'ㅋ', 'ㅌ', 'ㅍ', 'ㅎ']\n",
    "\n",
    "JUNGSUNG_LIST = ['ㅏ', 'ㅐ', 'ㅑ', 'ㅒ', 'ㅓ', 'ㅔ', 'ㅕ', 'ㅖ', 'ㅗ', 'ㅘ', 'ㅙ', 'ㅚ', 'ㅛ', 'ㅜ', 'ㅝ', 'ㅞ', 'ㅟ', 'ㅠ', 'ㅡ', 'ㅢ', 'ㅣ']\n",
    "\n",
    "JONGSUNG_LIST = [' ', 'ㄱ', 'ㄲ', 'ㄳ', 'ㄴ', 'ㄵ', 'ㄶ', 'ㄷ', 'ㄹ', 'ㄺ', 'ㄻ', 'ㄼ', 'ㄽ', 'ㄾ', \n",
    "                 'ㄿ', 'ㅀ', 'ㅁ', 'ㅂ', 'ㅄ', 'ㅅ', 'ㅆ', 'ㅇ', 'ㅈ', 'ㅊ', 'ㅋ', 'ㅌ', 'ㅍ', 'ㅎ']\n",
    "\n",
    "BASE_CODE, CHOSUNG, JUNGSUNG = 44032, 588, 28\n",
    "\n",
    "keyword=euc\n",
    "split_keyword_list = list(test_keyword) \n",
    "print(split_keyword_list) \n",
    "result = list() \n",
    "\n",
    "char_code = ord(keyword) - BASE_CODE \n",
    "char1 = int(char_code / CHOSUNG) \n",
    "\n",
    "print('초성 ID : {}'.format(char1)) \n",
    "char2 = int((char_code - (CHOSUNG * char1)) / JUNGSUNG) \n",
    "\n",
    "print('중성 ID : {}'.format(char2)) \n",
    "char3 = int((char_code - (CHOSUNG * char1) - (JUNGSUNG * char2))) \n",
    "result.append(JONGSUNG_LIST[char3]) \n",
    "print('종성 ID : {}'.format(char3)) \n",
    "\n"
   ]
  }
 ],
 "metadata": {
  "kernelspec": {
   "display_name": "Python [conda env:tensorflow]",
   "language": "python",
   "name": "conda-env-tensorflow-py"
  },
  "language_info": {
   "codemirror_mode": {
    "name": "ipython",
    "version": 3
   },
   "file_extension": ".py",
   "mimetype": "text/x-python",
   "name": "python",
   "nbconvert_exporter": "python",
   "pygments_lexer": "ipython3",
   "version": "3.5.4"
  }
 },
 "nbformat": 4,
 "nbformat_minor": 2
}
